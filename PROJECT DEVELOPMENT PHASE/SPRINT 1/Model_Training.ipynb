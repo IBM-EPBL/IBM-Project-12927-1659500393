{
  "nbformat": 4,
  "nbformat_minor": 0,
  "metadata": {
    "colab": {
      "provenance": [],
      "collapsed_sections": []
    },
    "kernelspec": {
      "name": "python3",
      "display_name": "Python 3"
    },
    "language_info": {
      "name": "python"
    }
  },
  "cells": [
    {
      "cell_type": "code",
      "execution_count": 1,
      "metadata": {
        "id": "nFe-YKdU3yVY"
      },
      "outputs": [],
      "source": [
        "# This library helps add support for large, multi-dimensional arrays and matrices\n",
        "import numpy as np\n",
        "#open source used for both ML and DL for computation\n",
        "import tensorflow as tf\n",
        "#it is a plain stack of layers\n",
        "from tensorflow.keras.models import Sequential \n",
        "#Dense layer is the regular deeply connected neural network layer\n",
        "from tensorflow.keras.layers import Dense,Flatten, Dropout\n",
        "#Faltten-used fot flattening the input or change the dimension, MaxPooling2D-for downsampling the image for Convolutional layer\n",
        "from tensorflow.keras.layers import Convolution2D,MaxPooling2D \n",
        "#Its used for different augmentation of the image \n",
        "from tensorflow.keras.preprocessing.image import ImageDataGenerator"
      ]
    },
    {
      "cell_type": "code",
      "source": [
        "#setting parameter for Image Data agumentation to the traing data\n",
        "train_datagen = ImageDataGenerator(rescale=1./255,\n",
        "                                   shear_range=0.2,\n",
        "                                   zoom_range=0.2,\n",
        "                                   horizontal_flip=True)\n",
        "#Image Data agumentation to the testing data\n",
        "test_datagen=ImageDataGenerator(rescale=1./255)"
      ],
      "metadata": {
        "id": "OHVUYqPo4Cph"
      },
      "execution_count": 2,
      "outputs": []
    },
    {
      "cell_type": "code",
      "source": [
        "#performing data agumentation to train data\n",
        "x_train = train_datagen.flow_from_directory('/content/drive/MyDrive/IBM/project/data_set/train',\n",
        "                                            target_size=(64, 64),\n",
        "                                            batch_size=3,\n",
        "                                            color_mode='grayscale',\n",
        "                                            class_mode='categorical')\n",
        "#performing data agumentation to test data\n",
        "x_test = test_datagen.flow_from_directory(r'/content/drive/MyDrive/IBM/project/data_set/test',\n",
        "                                          target_size=(64, 64),\n",
        "                                          batch_size=3,\n",
        "                                          color_mode='grayscale',\n",
        "                                          class_mode='categorical')"
      ],
      "metadata": {
        "colab": {
          "base_uri": "https://localhost:8080/"
        },
        "id": "2UKTXI8i4IqC",
        "outputId": "bfaef2f7-d198-45ff-f92b-869470796483"
      },
      "execution_count": 3,
      "outputs": [
        {
          "output_type": "stream",
          "name": "stdout",
          "text": [
            "Found 594 images belonging to 6 classes.\n",
            "Found 30 images belonging to 6 classes.\n"
          ]
        }
      ]
    },
    {
      "cell_type": "code",
      "source": [
        "print(x_train.class_indices)#checking the number of classes"
      ],
      "metadata": {
        "colab": {
          "base_uri": "https://localhost:8080/"
        },
        "id": "KTv_eNs15OCY",
        "outputId": "88d6e8c6-0651-4de3-fd26-dad6a1d4c346"
      },
      "execution_count": 4,
      "outputs": [
        {
          "output_type": "stream",
          "name": "stdout",
          "text": [
            "{'0': 0, '1': 1, '2': 2, '3': 3, '4': 4, '5': 5}\n"
          ]
        }
      ]
    },
    {
      "cell_type": "code",
      "source": [
        "# Initializing the CNN\n",
        "model = Sequential()"
      ],
      "metadata": {
        "id": "0_DJVaJ68nZf"
      },
      "execution_count": 5,
      "outputs": []
    },
    {
      "cell_type": "code",
      "source": [
        "# First convolution layer and pooling\n",
        "model.add(Convolution2D(32, (3, 3), input_shape=(64, 64, 1), activation='relu'))\n",
        "model.add(MaxPooling2D(pool_size=(2, 2)))"
      ],
      "metadata": {
        "id": "SBQuB5_p8nf3"
      },
      "execution_count": 6,
      "outputs": []
    },
    {
      "cell_type": "code",
      "source": [
        "# Second convolution layer and pooling\n",
        "model.add(Convolution2D(32, (3, 3), activation='relu'))\n",
        "# input_shape is going to be the pooled feature maps from the previous convolution layer\n",
        "model.add(MaxPooling2D(pool_size=(2,2)))"
      ],
      "metadata": {
        "id": "mYc7F9eK8vSx"
      },
      "execution_count": 7,
      "outputs": []
    },
    {
      "cell_type": "code",
      "source": [
        "# Flattening the layers i.e. input layer\n",
        "model.add(Flatten())"
      ],
      "metadata": {
        "id": "Rl70gXkw8vZT"
      },
      "execution_count": 8,
      "outputs": []
    },
    {
      "cell_type": "code",
      "source": [
        "# Adding a fully connected layer, i.e. Hidden Layer\n",
        "model.add(Dense(units=512 , activation='relu'))"
      ],
      "metadata": {
        "id": "5UjdcVvB80x4"
      },
      "execution_count": 9,
      "outputs": []
    },
    {
      "cell_type": "code",
      "source": [
        "# softmax for categorical analysis, Output Layer\n",
        "model.add(Dense(units=6, activation='softmax')) "
      ],
      "metadata": {
        "id": "CTI8_BZE804M"
      },
      "execution_count": 10,
      "outputs": []
    },
    {
      "cell_type": "code",
      "source": [
        "model.summary()#summary of our model"
      ],
      "metadata": {
        "colab": {
          "base_uri": "https://localhost:8080/"
        },
        "id": "zMfEmdtm809b",
        "outputId": "d15c50e0-e8b5-4e91-f0f0-d49251c6db36"
      },
      "execution_count": 11,
      "outputs": [
        {
          "output_type": "stream",
          "name": "stdout",
          "text": [
            "Model: \"sequential\"\n",
            "_________________________________________________________________\n",
            " Layer (type)                Output Shape              Param #   \n",
            "=================================================================\n",
            " conv2d (Conv2D)             (None, 62, 62, 32)        320       \n",
            "                                                                 \n",
            " max_pooling2d (MaxPooling2D  (None, 31, 31, 32)       0         \n",
            " )                                                               \n",
            "                                                                 \n",
            " conv2d_1 (Conv2D)           (None, 29, 29, 32)        9248      \n",
            "                                                                 \n",
            " max_pooling2d_1 (MaxPooling  (None, 14, 14, 32)       0         \n",
            " 2D)                                                             \n",
            "                                                                 \n",
            " flatten (Flatten)           (None, 6272)              0         \n",
            "                                                                 \n",
            " dense (Dense)               (None, 512)               3211776   \n",
            "                                                                 \n",
            " dense_1 (Dense)             (None, 6)                 3078      \n",
            "                                                                 \n",
            "=================================================================\n",
            "Total params: 3,224,422\n",
            "Trainable params: 3,224,422\n",
            "Non-trainable params: 0\n",
            "_________________________________________________________________\n"
          ]
        }
      ]
    },
    {
      "cell_type": "code",
      "source": [
        "# Compiling the CNN\n",
        "# categorical_crossentropy for more than 2\n",
        "model.compile(optimizer='adam', loss='categorical_crossentropy', metrics=['accuracy']) "
      ],
      "metadata": {
        "id": "pfw6hM9k9AFv"
      },
      "execution_count": 12,
      "outputs": []
    },
    {
      "cell_type": "code",
      "source": [
        "# It will generate packets of train and test data for training\n",
        "model.fit_generator(x_train,\n",
        "                    steps_per_epoch = 594/3 , \n",
        "                    epochs = 25, \n",
        "                    validation_data = x_test,\n",
        "                    validation_steps = 30/3 )"
      ],
      "metadata": {
        "colab": {
          "base_uri": "https://localhost:8080/"
        },
        "id": "nWXOC1Fd9AKE",
        "outputId": "80b9a760-e12c-4871-b614-d462c816c981"
      },
      "execution_count": 13,
      "outputs": [
        {
          "output_type": "stream",
          "name": "stderr",
          "text": [
            "/usr/local/lib/python3.7/dist-packages/ipykernel_launcher.py:6: UserWarning: `Model.fit_generator` is deprecated and will be removed in a future version. Please use `Model.fit`, which supports generators.\n",
            "  \n"
          ]
        },
        {
          "output_type": "stream",
          "name": "stdout",
          "text": [
            "Epoch 1/25\n",
            "198/198 [==============================] - 174s 871ms/step - loss: 1.2459 - accuracy: 0.5286 - val_loss: 0.5213 - val_accuracy: 0.8000\n",
            "Epoch 2/25\n",
            "198/198 [==============================] - 17s 85ms/step - loss: 0.5588 - accuracy: 0.7778 - val_loss: 0.4639 - val_accuracy: 0.8000\n",
            "Epoch 3/25\n",
            "198/198 [==============================] - 17s 85ms/step - loss: 0.4021 - accuracy: 0.8350 - val_loss: 0.3915 - val_accuracy: 0.9000\n",
            "Epoch 4/25\n",
            "198/198 [==============================] - 17s 86ms/step - loss: 0.3111 - accuracy: 0.8704 - val_loss: 0.2308 - val_accuracy: 0.9333\n",
            "Epoch 5/25\n",
            "198/198 [==============================] - 17s 86ms/step - loss: 0.2078 - accuracy: 0.9158 - val_loss: 0.2931 - val_accuracy: 0.9333\n",
            "Epoch 6/25\n",
            "198/198 [==============================] - 19s 94ms/step - loss: 0.1906 - accuracy: 0.9293 - val_loss: 0.4041 - val_accuracy: 0.9000\n",
            "Epoch 7/25\n",
            "198/198 [==============================] - 17s 86ms/step - loss: 0.1406 - accuracy: 0.9529 - val_loss: 0.2982 - val_accuracy: 0.9667\n",
            "Epoch 8/25\n",
            "198/198 [==============================] - 17s 86ms/step - loss: 0.0824 - accuracy: 0.9781 - val_loss: 0.2787 - val_accuracy: 0.9333\n",
            "Epoch 9/25\n",
            "198/198 [==============================] - 17s 86ms/step - loss: 0.1492 - accuracy: 0.9495 - val_loss: 0.1224 - val_accuracy: 0.9667\n",
            "Epoch 10/25\n",
            "198/198 [==============================] - 17s 86ms/step - loss: 0.0618 - accuracy: 0.9865 - val_loss: 0.2907 - val_accuracy: 0.9667\n",
            "Epoch 11/25\n",
            "198/198 [==============================] - 17s 86ms/step - loss: 0.0818 - accuracy: 0.9697 - val_loss: 0.3420 - val_accuracy: 0.9667\n",
            "Epoch 12/25\n",
            "198/198 [==============================] - 17s 86ms/step - loss: 0.0268 - accuracy: 0.9933 - val_loss: 0.2729 - val_accuracy: 0.9667\n",
            "Epoch 13/25\n",
            "198/198 [==============================] - 17s 85ms/step - loss: 0.0665 - accuracy: 0.9798 - val_loss: 0.1740 - val_accuracy: 0.9667\n",
            "Epoch 14/25\n",
            "198/198 [==============================] - 17s 85ms/step - loss: 0.0493 - accuracy: 0.9848 - val_loss: 0.2036 - val_accuracy: 0.9667\n",
            "Epoch 15/25\n",
            "198/198 [==============================] - 17s 87ms/step - loss: 0.0421 - accuracy: 0.9865 - val_loss: 0.1831 - val_accuracy: 0.9667\n",
            "Epoch 16/25\n",
            "198/198 [==============================] - 16s 83ms/step - loss: 0.0369 - accuracy: 0.9865 - val_loss: 0.2135 - val_accuracy: 0.9667\n",
            "Epoch 17/25\n",
            "198/198 [==============================] - 17s 84ms/step - loss: 0.0493 - accuracy: 0.9815 - val_loss: 0.2193 - val_accuracy: 0.9667\n",
            "Epoch 18/25\n",
            "198/198 [==============================] - 17s 83ms/step - loss: 0.0521 - accuracy: 0.9781 - val_loss: 1.5225 - val_accuracy: 0.8000\n",
            "Epoch 19/25\n",
            "198/198 [==============================] - 18s 91ms/step - loss: 0.1204 - accuracy: 0.9579 - val_loss: 0.2504 - val_accuracy: 0.9333\n",
            "Epoch 20/25\n",
            "198/198 [==============================] - 16s 83ms/step - loss: 0.0504 - accuracy: 0.9882 - val_loss: 0.3252 - val_accuracy: 0.9667\n",
            "Epoch 21/25\n",
            "198/198 [==============================] - 16s 83ms/step - loss: 0.0389 - accuracy: 0.9832 - val_loss: 0.3158 - val_accuracy: 0.9667\n",
            "Epoch 22/25\n",
            "198/198 [==============================] - 17s 83ms/step - loss: 0.0206 - accuracy: 0.9899 - val_loss: 0.4860 - val_accuracy: 0.9000\n",
            "Epoch 23/25\n",
            "198/198 [==============================] - 16s 82ms/step - loss: 0.0771 - accuracy: 0.9798 - val_loss: 0.3701 - val_accuracy: 0.9333\n",
            "Epoch 24/25\n",
            "198/198 [==============================] - 17s 84ms/step - loss: 0.0266 - accuracy: 0.9899 - val_loss: 0.4622 - val_accuracy: 0.9333\n",
            "Epoch 25/25\n",
            "198/198 [==============================] - 16s 83ms/step - loss: 0.0154 - accuracy: 0.9966 - val_loss: 0.2616 - val_accuracy: 0.9667\n"
          ]
        },
        {
          "output_type": "execute_result",
          "data": {
            "text/plain": [
              "<keras.callbacks.History at 0x7f7824f760d0>"
            ]
          },
          "metadata": {},
          "execution_count": 13
        }
      ]
    },
    {
      "cell_type": "code",
      "source": [
        "# Save the model\n",
        "model.save('gesture.h5')"
      ],
      "metadata": {
        "id": "W5so9Adi8ve0"
      },
      "execution_count": 14,
      "outputs": []
    },
    {
      "cell_type": "code",
      "source": [
        "model_json = model.to_json()\n",
        "with open(\"model-bw.json\", \"w\") as json_file:\n",
        "    json_file.write(model_json)"
      ],
      "metadata": {
        "id": "rTjAYFOU8nkH"
      },
      "execution_count": 15,
      "outputs": []
    }
  ]
}