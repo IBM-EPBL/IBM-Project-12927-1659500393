{
  "nbformat": 4,
  "nbformat_minor": 0,
  "metadata": {
    "colab": {
      "provenance": []
    },
    "kernelspec": {
      "name": "python3",
      "display_name": "Python 3"
    },
    "language_info": {
      "name": "python"
    }
  },
  "cells": [
    {
      "cell_type": "code",
      "execution_count": 1,
      "metadata": {
        "id": "7A8cEbMfn34-"
      },
      "outputs": [],
      "source": [
        "from keras.preprocessing.image import ImageDataGenerator \n",
        "train_datagen = ImageDataGenerator(rescale = 1./255, shear_range= 0.2,zoom_range= 0.2, horizontal_flip = True) \n",
        "test_datagen =ImageDataGenerator(rescale=1)"
      ]
    },
    {
      "cell_type": "code",
      "source": [
        "x_train = train_datagen.flow_from_directory(r'/content/drive/MyDrive/IBM/project/data_set/train',target_size = (64,64), batch_size = 32, class_mode ='categorical')\n",
        "x_test = test_datagen.flow_from_directory(r'/content/drive/MyDrive/IBM/project/data_set/test',target_size = (64,64), batch_size = 32, class_mode ='categorical')"
      ],
      "metadata": {
        "colab": {
          "base_uri": "https://localhost:8080/"
        },
        "id": "SK8VZhKmoDPO",
        "outputId": "b7023dfa-9753-459f-8ef9-e4c394c73fe2"
      },
      "execution_count": 2,
      "outputs": [
        {
          "output_type": "stream",
          "name": "stdout",
          "text": [
            "Found 594 images belonging to 6 classes.\n",
            "Found 30 images belonging to 6 classes.\n"
          ]
        }
      ]
    }
  ]
}